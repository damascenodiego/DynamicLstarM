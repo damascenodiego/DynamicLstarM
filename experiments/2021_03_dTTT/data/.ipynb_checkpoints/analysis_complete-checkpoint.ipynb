{
 "cells": [
  {
   "cell_type": "code",
   "execution_count": 1,
   "metadata": {
    "pycharm": {
     "name": "#%%\n"
    }
   },
   "outputs": [],
   "source": [
    "## Import packages\n",
    "import pandas as pd\n",
    "import numpy as np\n",
    "import matplotlib.pyplot as plt\n",
    "import matplotlib.ticker as mticker\n",
    "\n",
    "# set inline print\n",
    "%matplotlib inline"
   ]
  },
  {
   "cell_type": "code",
   "execution_count": 2,
   "metadata": {},
   "outputs": [],
   "source": [
    "openssl_tab = \"./openssl_releasedates.tab\"\n",
    "df_openssl = pd.read_csv(openssl_tab, sep='\\t')\n",
    "df_openssl[\"date\"] = df_openssl[\"date\"].astype('datetime64[ns]') # set date column as type date\n",
    "\n",
    "# create dictionary for openssl versions (i.e., version -> qsize, date)\n",
    "dict_versions = df_openssl.set_index(\"version\").to_dict()"
   ]
  },
  {
   "cell_type": "code",
   "execution_count": 3,
   "metadata": {},
   "outputs": [
    {
     "data": {
      "text/html": [
       "<div>\n",
       "<style scoped>\n",
       "    .dataframe tbody tr th:only-of-type {\n",
       "        vertical-align: middle;\n",
       "    }\n",
       "\n",
       "    .dataframe tbody tr th {\n",
       "        vertical-align: top;\n",
       "    }\n",
       "\n",
       "    .dataframe thead th {\n",
       "        text-align: right;\n",
       "    }\n",
       "</style>\n",
       "<table border=\"1\" class=\"dataframe\">\n",
       "  <thead>\n",
       "    <tr style=\"text-align: right;\">\n",
       "      <th></th>\n",
       "      <th>ModelRef</th>\n",
       "      <th>ModelUpdt</th>\n",
       "      <th>Precision</th>\n",
       "      <th>Recall</th>\n",
       "      <th>F-measure</th>\n",
       "      <th>Delta Time</th>\n",
       "      <th>Delta Size</th>\n",
       "    </tr>\n",
       "  </thead>\n",
       "  <tbody>\n",
       "    <tr>\n",
       "      <th>50</th>\n",
       "      <td>server_097</td>\n",
       "      <td>server_097</td>\n",
       "      <td>0.932773</td>\n",
       "      <td>0.932773</td>\n",
       "      <td>0.932773</td>\n",
       "      <td>0</td>\n",
       "      <td>0</td>\n",
       "    </tr>\n",
       "    <tr>\n",
       "      <th>51</th>\n",
       "      <td>server_097</td>\n",
       "      <td>server_097c</td>\n",
       "      <td>0.917526</td>\n",
       "      <td>0.747899</td>\n",
       "      <td>0.824074</td>\n",
       "      <td>0</td>\n",
       "      <td>3</td>\n",
       "    </tr>\n",
       "    <tr>\n",
       "      <th>52</th>\n",
       "      <td>server_097</td>\n",
       "      <td>server_097e</td>\n",
       "      <td>0.791667</td>\n",
       "      <td>0.638655</td>\n",
       "      <td>0.706977</td>\n",
       "      <td>-1</td>\n",
       "      <td>3</td>\n",
       "    </tr>\n",
       "    <tr>\n",
       "      <th>53</th>\n",
       "      <td>server_097</td>\n",
       "      <td>server_098f</td>\n",
       "      <td>0.791667</td>\n",
       "      <td>0.638655</td>\n",
       "      <td>0.706977</td>\n",
       "      <td>-4</td>\n",
       "      <td>3</td>\n",
       "    </tr>\n",
       "    <tr>\n",
       "      <th>54</th>\n",
       "      <td>server_097</td>\n",
       "      <td>server_098l</td>\n",
       "      <td>0.675325</td>\n",
       "      <td>0.436975</td>\n",
       "      <td>0.530612</td>\n",
       "      <td>-6</td>\n",
       "      <td>6</td>\n",
       "    </tr>\n",
       "  </tbody>\n",
       "</table>\n",
       "</div>"
      ],
      "text/plain": [
       "      ModelRef    ModelUpdt  Precision    Recall  F-measure  Delta Time  \\\n",
       "50  server_097   server_097   0.932773  0.932773   0.932773           0   \n",
       "51  server_097  server_097c   0.917526  0.747899   0.824074           0   \n",
       "52  server_097  server_097e   0.791667  0.638655   0.706977          -1   \n",
       "53  server_097  server_098f   0.791667  0.638655   0.706977          -4   \n",
       "54  server_097  server_098l   0.675325  0.436975   0.530612          -6   \n",
       "\n",
       "    Delta Size  \n",
       "50           0  \n",
       "51           3  \n",
       "52           3  \n",
       "53           3  \n",
       "54           6  "
      ]
     },
     "execution_count": 3,
     "metadata": {},
     "output_type": "execute_result"
    }
   ],
   "source": [
    "ltsdiff_tab = \"./ltsdiff.tab\"\n",
    "df_ltsdiff = pd.read_csv(ltsdiff_tab, sep='|')\n",
    "df_diff = df_ltsdiff[df_ltsdiff[\"ModelRef\"].str.contains(\"^server_\")].replace(\"\\.dot\\.kiss$\",\"\",regex=True)\n",
    "\n",
    "# calculating distance in years\n",
    "from dateutil.relativedelta import relativedelta\n",
    "df_diff[\"Delta Time\"] = df_diff.apply(\n",
    "        lambda x:\n",
    "                relativedelta(\n",
    "                        dict_versions[\"date\"][x[\"ModelRef\"]], \n",
    "                        dict_versions[\"date\"][x[\"ModelUpdt\"]]\n",
    "                ).years # set here the years\n",
    "        ,axis=1\n",
    "        )\n",
    "\n",
    "# calculating difference of FSM sizes (in number of states)\n",
    "df_diff[\"Delta Size\"] = df_diff.apply(\n",
    "        lambda x: dict_versions[\"qsize\"][x[\"ModelRef\"]]-dict_versions[\"qsize\"][x[\"ModelUpdt\"]]\n",
    "        ,axis=1\n",
    "    )\n",
    "\n",
    "df_diff.head()"
   ]
  },
  {
   "cell_type": "code",
   "execution_count": 12,
   "metadata": {},
   "outputs": [
    {
     "data": {
      "image/png": "[encoded data removed]",
      "text/plain": [
       "<Figure size 720x216 with 1 Axes>"
      ]
     },
     "metadata": {
      "needs_background": "light"
     },
     "output_type": "display_data"
    },
    {
     "data": {
      "image/png": "[encoded data removed]",
      "text/plain": [
       "<Figure size 720x216 with 1 Axes>"
      ]
     },
     "metadata": {
      "needs_background": "light"
     },
     "output_type": "display_data"
    }
   ],
   "source": [
    "# df_aux = df_diff[df_diff[\"Delta Time\"]>=0]\n",
    "df_aux = df_diff\n",
    "\n",
    "plt.rcParams[\"figure.figsize\"] = (10,3)\n",
    "\n",
    "ax = df_aux.plot(x ='Delta Time', y='Precision', kind = 'scatter')\n",
    "plt.show()\n",
    "\n",
    "ax = df_aux.plot(x ='Delta Time', y='Delta Size', kind = 'scatter')\n",
    "plt.show()"
   ]
  },
  {
   "cell_type": "code",
   "execution_count": null,
   "metadata": {},
   "outputs": [],
   "source": []
  }
 ],
 "metadata": {
  "kernelspec": {
   "display_name": "Python 3",
   "language": "python",
   "name": "python3"
  },
  "language_info": {
   "codemirror_mode": {
    "name": "ipython",
    "version": 3
   },
   "file_extension": ".py",
   "mimetype": "text/x-python",
   "name": "python",
   "nbconvert_exporter": "python",
   "pygments_lexer": "ipython3",
   "version": "3.6.9"
  }
 },
 "nbformat": 4,
 "nbformat_minor": 1
}
